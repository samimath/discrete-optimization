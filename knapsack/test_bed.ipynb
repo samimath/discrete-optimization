{
 "cells": [
  {
   "cell_type": "code",
   "execution_count": 303,
   "metadata": {},
   "outputs": [],
   "source": [
    "from collections import namedtuple\n",
    "from operator import attrgetter\n",
    "import numpy as np\n",
    "\n",
    "Item = namedtuple(\"Item\", ['index', 'value', 'weight'])\n",
    "\n",
    "Item2 = namedtuple(\"Item2\", ['index', 'value', 'weight', 'value_density'])\n"
   ]
  },
  {
   "cell_type": "code",
   "execution_count": 561,
   "metadata": {},
   "outputs": [],
   "source": [
    "def get_weight_density(input_data):\n",
    "    \n",
    "    with open(input_data, 'r') as input_data:\n",
    "        input_data = input_data.read()\n",
    "    \n",
    "    lines = input_data.split('\\n')\n",
    "\n",
    "    firstLine = lines[0].split()\n",
    "    item_count = int(firstLine[0])\n",
    "    capacity = int(firstLine[1])\n",
    "\n",
    "    items = []\n",
    "\n",
    "    for i in range(1, item_count + 1):\n",
    "        line = lines[i]\n",
    "        parts = line.split()\n",
    "        items.append(Item2(i - 1, int(parts[0]), int(parts[1]), float(parts[0]) / float(parts[1])))\n",
    "    items2 = sorted(items, key=attrgetter('value_density'),reverse=True)\n",
    "    return capacity,items2\n",
    "\n",
    "def memoization_1d(items,cap):\n",
    "    \n",
    "    K = cap\n",
    "    D = np.empty([K+1,len(items)+1])\n",
    "    D[:] = np.NaN\n",
    "    w = 0\n",
    "    v = 0\n",
    "\n",
    "    for k in range(0,K+1):\n",
    "\n",
    "        #print('**',k,':')\n",
    "\n",
    "        for j in range(0,len(items)+1):# in items:\n",
    "\n",
    "            if np.isnan(D[k,j]):\n",
    "            # if there is 0 capacity:\n",
    "                if (j == 0):\n",
    "                    D[:,0] = 0\n",
    "\n",
    "                elif (items[j-1].weight <= k) :\n",
    "                    D[k,j] = max(items[j-1].value + D[k-items[j-1].weight,j-1], D[k,j-1] )\n",
    "                    #if D[k,j] > D[k,j-1]:# items[j-1].value + D[k-items[j-1].weight,j-1]:\n",
    "                        #print(j)\n",
    "                else:\n",
    "                    D[k,j] = D[k,j-1]\n",
    "            else:\n",
    "                pass\n",
    "                \n",
    "    return D\n",
    "\n",
    "def find_next_row(r,c,items,D):\n",
    "    \n",
    "    R = D.shape[0]\n",
    "    \n",
    "    C = D.shape[0]\n",
    "    if (c < 0) or (r <= 0):\n",
    "        return \n",
    "    \n",
    "    if (r == 0) :\n",
    "        x = 0\n",
    "        next_col = c\n",
    "        next_row = r\n",
    "        \n",
    "    # check if it's lower right corner:\n",
    "    if D[r,c] == D[r, c-1]:\n",
    "    \n",
    "        x = 0\n",
    "        next_col = c -1\n",
    "        next_row = r \n",
    "    else :\n",
    "        print(c,' is selected')\n",
    "        x = 1\n",
    "        next_col = c -1\n",
    "        next_row = r - items[c-1].weight\n",
    "        return c-1, find_next_row(next_row,next_col,items,D)\n",
    "        \n",
    "    return find_next_row(next_row,next_col,items,D)\n",
    "\n",
    "import collections\n",
    "\n",
    "def flatten(iterable):\n",
    "    results = []\n",
    "    for i in iterable:\n",
    "        if isinstance(i, collections.Iterable) and not isinstance(i, str):\n",
    "            results.extend(flatten(i))\n",
    "        else:\n",
    "            results.append(i)\n",
    "    return results\n",
    "\n",
    "\n",
    "\n",
    "\n",
    "def solve_dp(input_data):\n",
    "    \n",
    "    cap,items = get_weight_density(input_data)\n",
    "    D = memoization_1d(items,cap)\n",
    "    print(D)\n",
    "    print(D[-1,-1])\n",
    "    opt_val = D[-1,-1]\n",
    "    r = D.shape[0] - 1\n",
    "    c = D.shape[1] - 1\n",
    "    print(r)\n",
    "    print(c)\n",
    "    print(items)\n",
    "    selected = flatten(find_next_row(r,c,items,D))#[0:c]\n",
    "\n",
    "    return opt_val, [x for x in selected if x is not None]\n",
    "    "
   ]
  },
  {
   "cell_type": "code",
   "execution_count": 562,
   "metadata": {},
   "outputs": [
    {
     "name": "stderr",
     "output_type": "stream",
     "text": [
      "IOPub data rate exceeded.\n",
      "The notebook server will temporarily stop sending output\n",
      "to the client in order to avoid crashing it.\n",
      "To change this limit, set the config variable\n",
      "`--NotebookApp.iopub_data_rate_limit`.\n",
      "\n",
      "Current values:\n",
      "NotebookApp.iopub_data_rate_limit=1000000.0 (bytes/sec)\n",
      "NotebookApp.rate_limit_window=3.0 (secs)\n",
      "\n"
     ]
    },
    {
     "data": {
      "text/plain": [
       "(12248.0, [10, 8, 5, 4, 2])"
      ]
     },
     "execution_count": 562,
     "metadata": {},
     "output_type": "execute_result"
    }
   ],
   "source": [
    "solve_dp('data/ks_19_0')"
   ]
  },
  {
   "cell_type": "code",
   "execution_count": null,
   "metadata": {},
   "outputs": [],
   "source": []
  }
 ],
 "metadata": {
  "kernelspec": {
   "display_name": "Python 3",
   "language": "python",
   "name": "python3"
  },
  "language_info": {
   "codemirror_mode": {
    "name": "ipython",
    "version": 3
   },
   "file_extension": ".py",
   "mimetype": "text/x-python",
   "name": "python",
   "nbconvert_exporter": "python",
   "pygments_lexer": "ipython3",
   "version": "3.6.8"
  }
 },
 "nbformat": 4,
 "nbformat_minor": 4
}
